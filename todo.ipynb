{
  "nbformat": 4,
  "nbformat_minor": 0,
  "metadata": {
    "colab": {
      "provenance": [],
      "authorship_tag": "ABX9TyOpiwzEXgiGWOsr5+RRjzJg",
      "include_colab_link": true
    },
    "kernelspec": {
      "name": "python3",
      "display_name": "Python 3"
    },
    "language_info": {
      "name": "python"
    }
  },
  "cells": [
    {
      "cell_type": "markdown",
      "metadata": {
        "id": "view-in-github",
        "colab_type": "text"
      },
      "source": [
        "<a href=\"https://colab.research.google.com/github/rezanezhadfatemeh0-cmd/todo/blob/main/todo.ipynb\" target=\"_parent\"><img src=\"https://colab.research.google.com/assets/colab-badge.svg\" alt=\"Open In Colab\"/></a>"
      ]
    },
    {
      "cell_type": "code",
      "execution_count": null,
      "metadata": {
        "id": "0tyOgM_ZsD4j"
      },
      "outputs": [],
      "source": [
        "import os\n",
        "\n",
        "FILE_NAME = \"tasks.txt\"\n",
        "\n",
        "# --- تابع خواندن فایل ---\n",
        "def load_tasks():\n",
        "    tasks = []\n",
        "    if os.path.exists(FILE_NAME):\n",
        "        with open(FILE_NAME, \"r\", encoding=\"utf-8\") as f:\n",
        "            for line in f:\n",
        "                line = line.strip()\n",
        "                if line:\n",
        "                    # فرمت هر خط: عنوان | وضعیت\n",
        "                    title, status = line.split(\" | \")\n",
        "                    tasks.append({\"title\": title, \"done\": status == \"done\"})\n",
        "    return tasks\n",
        "\n",
        "# --- تابع ذخیره در فایل ---\n",
        "def save_tasks(tasks):\n",
        "    with open(FILE_NAME, \"w\", encoding=\"utf-8\") as f:\n",
        "        for t in tasks:\n",
        "            status = \"done\" if t[\"done\"] else \"todo\"\n",
        "            f.write(f\"{t['title']} | {status}\\n\")\n",
        "\n",
        "# --- نمایش لیست ---\n",
        "def show_tasks(tasks):\n",
        "    if not tasks:\n",
        "        print(\"📭 لیست خالیه!\")\n",
        "        return\n",
        "    print(\"\\n📋 لیست کارها:\")\n",
        "    for i, t in enumerate(tasks, 1):\n",
        "        status = \"✅\" if t[\"done\"] else \"🕓\"\n",
        "        print(f\"{i}. {t['title']} {status}\")\n",
        "\n",
        "# --- منوی اصلی ---\n",
        "def main():\n",
        "    tasks = load_tasks()\n",
        "\n",
        "    while True:\n",
        "        print(\"\\n--- To-Do List پیشرفته 📝 ---\")\n",
        "        print(\"1. ➕ افزودن کار\")\n",
        "        print(\"2. 📄 نمایش کارها\")\n",
        "        print(\"3. ✏️ علامت زدن به‌عنوان انجام‌شده\")\n",
        "        print(\"4. ❌ حذف کار\")\n",
        "        print(\"5. 💾 ذخیره و خروج\")\n",
        "\n",
        "        choice = input(\"انتخاب کن: \")\n",
        "\n",
        "        if choice == \"1\":\n",
        "            title = input(\"نام کار جدید: \").strip()\n",
        "            if title:\n",
        "                tasks.append({\"title\": title, \"done\": False})\n",
        "                print(\"✅ کار اضافه شد!\")\n",
        "\n",
        "        elif choice == \"2\":\n",
        "            show_tasks(tasks)\n",
        "\n",
        "        elif choice == \"3\":\n",
        "            show_tasks(tasks)\n",
        "            index = input(\"شماره کاری که انجام شده رو وارد کن: \")\n",
        "            if index.isdigit() and 1 <= int(index) <= len(tasks):\n",
        "                tasks[int(index)-1][\"done\"] = True\n",
        "                print(\"🎉 کار انجام‌شده علامت خورد!\")\n",
        "\n",
        "        elif choice == \"4\":\n",
        "            show_tasks(tasks)\n",
        "            index = input(\"شماره کاری که می‌خوای حذف کنی رو وارد کن: \")\n",
        "            if index.isdigit() and 1 <= int(index) <= len(tasks):\n",
        "                removed = tasks.pop(int(index)-1)\n",
        "                print(f\"🗑️ '{removed['title']}' حذف شد!\")\n",
        "\n",
        "        elif choice == \"5\":\n",
        "            save_tasks(tasks)\n",
        "            print(\"💾 تغییرات ذخیره شد. خداحافظ 👋\")\n",
        "            b\n"
      ]
    }
  ]
}