import os
import json
from typing import List, Dict, Optional
from datetime import datetime

class Task:
    """Represents a single task with title, completion status, and creation date."""
    
    def __init__(self, title: str, done: bool = False, created_at: str = None):
        self.title = title
        self.done = done
        self.created_at = created_at or datetime.now().strftime("%Y-%m-%d %H:%M:%S")
    
    def to_dict(self) -> Dict:
        """Convert task to dictionary for serialization."""
        return {
            "title": self.title,
            "done": self.done,
            "created_at": self.created_at
        }
    
    @classmethod
    def from_dict(cls, data: Dict) -> 'Task':
        """Create task from dictionary."""
        return cls(
            title=data["title"],
            done=data.get("done", False),
            created_at=data.get("created_at")
        )


class TaskManager:
    """Manages task operations including add, remove, update, and persistence."""
    
    def __init__(self, filename: str = "tasks.json"):
        self.filename = filename
        self.tasks: List[Task] = []
        self.load_tasks()
    
    def load_tasks(self) -> None:
        """Load tasks from JSON file."""
        if os.path.exists(self.filename):
            try:
                with open(self.filename, "r", encoding="utf-8") as f:
                    data = json.load(f)
                    self.tasks = [Task.from_dict(task_data) for task_data in data]
            except (json.JSONDecodeError, KeyError) as e:
                print(f"Error loading tasks: {e}")
                self.tasks = []
    
    def save_tasks(self) -> None:
        """Save tasks to JSON file."""
        try:
            with open(self.filename, "w", encoding="utf-8") as f:
                json.dump([task.to_dict() for task in self.tasks], f, indent=2, ensure_ascii=False)
        except IOError as e:
            print(f"Error saving tasks: {e}")
    
    def add_task(self, title: str) -> bool:
        """Add a new task to the list."""
        if not title.strip():
            return False
        self.tasks.append(Task(title.strip()))
        return True
    
    def remove_task(self, index: int) -> Optional[Task]:
        """Remove task by index. Returns removed task or None if invalid index."""
        if 0 <= index < len(self.tasks):
            return self.tasks.pop(index)
        return None
    
    def mark_done(self, index: int) -> bool:
        """Mark task as done by index."""
        if 0 <= index < len(self.tasks):
            self.tasks[index].done = True
            return True
        return False
    
    def mark_undone(self, index: int) -> bool:
        """Mark task as not done by index."""
        if 0 <= index < len(self.tasks):
            self.tasks[index].done = False
            return True
        return False
    
    def get_tasks(self, filter_type: str = "all") -> List[Task]:
        """Get tasks filtered by type: 'all', 'done', 'pending'."""
        if filter_type == "done":
            return [task for task in self.tasks if task.done]
        elif filter_type == "pending":
            return [task for task in self.tasks if not task.done]
        return self.tasks
    
    def clear_completed(self) -> int:
        """Remove all completed tasks. Returns number of tasks removed."""
        initial_count = len(self.tasks)
        self.tasks = [task for task in self.tasks if not task.done]
        return initial_count - len(self.tasks)


class TodoApp:
    """Command-line interface for the task manager."""
    
    def __init__(self):
        self.manager = TaskManager()
        self.running = True
    
    def display_menu(self) -> None:
        """Display main menu options."""
        print("\n" + "="*50)
        print("TASK MANAGER")
        print("="*50)
        print("1. Add new task")
        print("2. View all tasks")
        print("3. View pending tasks")
        print("4. View completed tasks")
        print("5. Mark task as done")
        print("6. Mark task as pending")
        print("7. Delete task")
        print("8. Clear all completed tasks")
        print("9. Save and exit")
        print("="*50)
    
    def display_tasks(self, tasks: List[Task], title: str = "Tasks") -> None:
        """Display a list of tasks."""
        if not tasks:
            print(f"\nNo {title.lower()} found.")
            return
        
        print(f"\n{title}:")
        print("-"*50)
        for i, task in enumerate(tasks, 1):
            status = "[X]" if task.done else "[ ]"
            print(f"{i}. {status} {task.title}")
            print(f"   Created: {task.created_at}")
        print("-"*50)
    
    def get_valid_index(self, prompt: str, max_value: int) -> Optional[int]:
        """Get and validate user input for task index."""
        try:
            index = int(input(prompt)) - 1
            if 0 <= index < max_value:
                return index
            print("Invalid task number.")
            return None
        except ValueError:
            print("Please enter a valid number.")
            return None
    
    def handle_add_task(self) -> None:
        """Handle adding a new task."""
        title = input("\nEnter task title: ").strip()
        if self.manager.add_task(title):
            print("Task added successfully.")
        else:
            print("Task title cannot be empty.")
    
    def handle_mark_done(self) -> None:
        """Handle marking a task as done."""
        tasks = self.manager.get_tasks("pending")
        self.display_tasks(tasks, "Pending Tasks")
        
        if not tasks:
            return
        
        index = self.get_valid_index("\nEnter task number to mark as done: ", len(tasks))
        if index is not None:
            actual_index = self.manager.tasks.index(tasks[index])
            if self.manager.mark_done(actual_index):
                print("Task marked as done.")
    
    def handle_mark_undone(self) -> None:
        """Handle marking a task as pending."""
        tasks = self.manager.get_tasks("done")
        self.display_tasks(tasks, "Completed Tasks")
        
        if not tasks:
            return
        
        index = self.get_valid_index("\nEnter task number to mark as pending: ", len(tasks))
        if index is not None:
            actual_index = self.manager.tasks.index(tasks[index])
            if self.manager.mark_undone(actual_index):
                print("Task marked as pending.")
    
    def handle_delete_task(self) -> None:
        """Handle deleting a task."""
        self.display_tasks(self.manager.tasks, "All Tasks")
        
        if not self.manager.tasks:
            return
        
        index = self.get_valid_index("\nEnter task number to delete: ", len(self.manager.tasks))
        if index is not None:
            removed = self.manager.remove_task(index)
            if removed:
                print(f"Task '{removed.title}' deleted successfully.")
    
    def handle_clear_completed(self) -> None:
        """Handle clearing all completed tasks."""
        count = self.manager.clear_completed()
        print(f"{count} completed task(s) removed.")
    
    def run(self) -> None:
        """Main application loop."""
        print("Welcome to Task Manager")
        
        while self.running:
            self.display_menu()
            choice = input("\nEnter your choice (1-9): ").strip()
            
            if choice == "1":
                self.handle_add_task()
            elif choice == "2":
                self.display_tasks(self.manager.get_tasks(), "All Tasks")
            elif choice == "3":
                self.display_tasks(self.manager.get_tasks("pending"), "Pending Tasks")
            elif choice == "4":
                self.display_tasks(self.manager.get_tasks("done"), "Completed Tasks")
            elif choice == "5":
                self.handle_mark_done()
            elif choice == "6":
                self.handle_mark_undone()
            elif choice == "7":
                self.handle_delete_task()
            elif choice == "8":
                self.handle_clear_completed()
            elif choice == "9":
                self.manager.save_tasks()
                print("\nTasks saved. Goodbye!")
                self.running = False
            else:
                print("\nInvalid choice. Please try again.")


def main():
    """Entry point of the application."""
    app = TodoApp()
    app.run()


if __name__ == "__main__":
    main()
